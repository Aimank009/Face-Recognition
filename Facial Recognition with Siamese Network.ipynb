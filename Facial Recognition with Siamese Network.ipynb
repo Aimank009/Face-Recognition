{
 "cells": [
  {
   "cell_type": "markdown",
   "id": "7ebd793a",
   "metadata": {},
   "source": [
    "# 1.Setup"
   ]
  },
  {
   "cell_type": "markdown",
   "id": "a9cfe4b9",
   "metadata": {},
   "source": [
    "### Dependencies"
   ]
  },
  {
   "cell_type": "code",
   "execution_count": 1,
   "id": "cc2d0260",
   "metadata": {},
   "outputs": [],
   "source": [
    "import cv2\n",
    "import os \n",
    "import random\n",
    "import numpy as np\n",
    "import matplotlib.pyplot as plt\n",
    "\n",
    "from tensorflow.keras.models import Model\n",
    "from tensorflow.keras.layers import Layer,Conv2D,Dense,MaxPool2D,Input,Flatten\n",
    "import tensorflow as tf"
   ]
  },
  {
   "cell_type": "markdown",
   "id": "7c62a35f",
   "metadata": {},
   "source": [
    "### Set up GPU growth"
   ]
  },
  {
   "cell_type": "code",
   "execution_count": 2,
   "id": "f0e59238",
   "metadata": {},
   "outputs": [],
   "source": [
    "gpus=tf.config.experimental.list_physical_devices('GPU')\n",
    "for gpu in gpus:\n",
    "    tf.config.experimental.set_memory_growth(gpu,True)"
   ]
  },
  {
   "cell_type": "markdown",
   "id": "11e64408",
   "metadata": {},
   "source": [
    "### Creating Folders "
   ]
  },
  {
   "cell_type": "code",
   "execution_count": 3,
   "id": "5e33514b",
   "metadata": {},
   "outputs": [],
   "source": [
    "POS_PATH=os.path.join('data','positive')\n",
    "NEG_PATH=os.path.join('data','negative')\n",
    "ANC_PATH=os.path.join('data','anchor')"
   ]
  },
  {
   "cell_type": "code",
   "execution_count": 4,
   "id": "055a8762",
   "metadata": {},
   "outputs": [],
   "source": [
    "os.makedirs(POS_PATH)\n",
    "os.makedirs(NEG_PATH)\n",
    "os.makedirs(ANC_PATH)"
   ]
  },
  {
   "cell_type": "markdown",
   "id": "e24f55f8",
   "metadata": {},
   "source": [
    "### Collecting Data"
   ]
  },
  {
   "cell_type": "markdown",
   "id": "b1a63f47",
   "metadata": {},
   "source": [
    "##### Collecting negative images"
   ]
  },
  {
   "cell_type": "code",
   "execution_count": 5,
   "id": "8de387cc",
   "metadata": {},
   "outputs": [],
   "source": [
    "# Uncompressing the tar gz labelled faced from wild dataset  \n",
    "!tar -xf lfw.tgz"
   ]
  },
  {
   "cell_type": "code",
   "execution_count": 6,
   "id": "4024182d",
   "metadata": {},
   "outputs": [],
   "source": [
    "for directory in os.listdir('lfw'):\n",
    "    directory_path = os.path.join('lfw', directory)\n",
    "    if os.path.isdir(directory_path):\n",
    "        for file in os.listdir(directory_path):\n",
    "            EX_PATH=os.path.join(directory_path,file)\n",
    "            NEW_Path=os.path.join(NEG_PATH,file)\n",
    "            os.replace(EX_PATH,NEW_Path)"
   ]
  },
  {
   "cell_type": "markdown",
   "id": "826bf20b",
   "metadata": {},
   "source": [
    "##### Collecting anchor and positive images"
   ]
  },
  {
   "cell_type": "code",
   "execution_count": 7,
   "id": "49864c39",
   "metadata": {},
   "outputs": [],
   "source": [
    "import uuid"
   ]
  },
  {
   "cell_type": "code",
   "execution_count": 8,
   "id": "2d8031be",
   "metadata": {},
   "outputs": [],
   "source": [
    "cap=cv2.VideoCapture(0)\n",
    "\n",
    "cap.set(cv2.CAP_PROP_FRAME_WIDTH, 250)\n",
    "cap.set(cv2.CAP_PROP_FRAME_HEIGHT, 250)\n",
    "\n",
    "while cap.isOpened():\n",
    "    \n",
    "    ret,frame=cap.read()\n",
    "    frame = cv2.resize(frame, (250, 250))\n",
    "    frame=cv2.flip(frame,1)\n",
    "    # collecting anchor images\n",
    "    if cv2.waitKey(1) & 0XFF == ord('a'):\n",
    "        imgname=os.path.join(ANC_PATH,'{}.jpg'.format(uuid.uuid1()))\n",
    "        cv2.imwrite(imgname,frame)\n",
    "        \n",
    "    # collecting positive images\n",
    "    if cv2.waitKey(1) & 0XFF == ord('p'):\n",
    "        imgname=os.path.join(POS_PATH,'{}.jpg'.format(uuid.uuid1()))\n",
    "        cv2.imwrite(imgname,frame)\n",
    "    cv2.imshow('Image Collection',frame)\n",
    "    \n",
    "    if cv2.waitKey(1) & 0XFF == ord('q'):\n",
    "        break\n",
    "cap.release()\n",
    "cv2.destroyAllWindows()"
   ]
  },
  {
   "cell_type": "code",
   "execution_count": 9,
   "id": "3135d7d0",
   "metadata": {},
   "outputs": [
    {
     "data": {
      "text/plain": [
       "(250, 250, 3)"
      ]
     },
     "execution_count": 9,
     "metadata": {},
     "output_type": "execute_result"
    }
   ],
   "source": [
    "frame.shape"
   ]
  },
  {
   "cell_type": "markdown",
   "id": "80edc618",
   "metadata": {},
   "source": [
    "### Loading and preprocessing images"
   ]
  },
  {
   "cell_type": "code",
   "execution_count": 12,
   "id": "d13f11b8",
   "metadata": {},
   "outputs": [],
   "source": [
    "anchor=tf.data.Dataset.list_files(ANC_PATH+'/*.jpg').take(300)\n",
    "positive=tf.data.Dataset.list_files(POS_PATH+'/*.jpg').take(300)\n",
    "negative=tf.data.Dataset.list_files(NEG_PATH+'/*.jpg').take(300)"
   ]
  },
  {
   "cell_type": "code",
   "execution_count": 13,
   "id": "3a98c8c0",
   "metadata": {},
   "outputs": [
    {
     "name": "stdout",
     "output_type": "stream",
     "text": [
      "b'data/anchor/77c801b0-9e8e-11ee-837f-c251d09dda8f.jpg'\n"
     ]
    }
   ],
   "source": [
    "dir_test=anchor.as_numpy_iterator()\n",
    "print(dir_test.next())"
   ]
  },
  {
   "cell_type": "code",
   "execution_count": 14,
   "id": "f7235db1",
   "metadata": {},
   "outputs": [],
   "source": [
    "def preprocess(file_path):\n",
    "    byte_img=tf.io.read_file(file_path)\n",
    "    img=tf.io.decode_jpeg(byte_img)\n",
    "    img=tf.image.resize(img,(100,100))\n",
    "    img=img/255.0\n",
    "    return img"
   ]
  },
  {
   "cell_type": "code",
   "execution_count": 15,
   "id": "f5b1b578",
   "metadata": {},
   "outputs": [],
   "source": [
    "img=preprocess('data/anchor/a1b509be-9e8e-11ee-837f-c251d09dda8f.jpg')"
   ]
  },
  {
   "cell_type": "code",
   "execution_count": 16,
   "id": "d6a49f48",
   "metadata": {},
   "outputs": [
    {
     "data": {
      "text/plain": [
       "<matplotlib.image.AxesImage at 0x29092c490>"
      ]
     },
     "execution_count": 16,
     "metadata": {},
     "output_type": "execute_result"
    },
    {
     "data": {
      "image/png": "[encoded data removed]",
      "text/plain": [
       "<Figure size 640x480 with 1 Axes>"
      ]
     },
     "metadata": {},
     "output_type": "display_data"
    }
   ],
   "source": [
    "plt.imshow(img)"
   ]
  },
  {
   "cell_type": "markdown",
   "id": "84b76f0f",
   "metadata": {},
   "source": [
    "### Labeling the data"
   ]
  },
  {
   "cell_type": "code",
   "execution_count": 17,
   "id": "b152f7e8",
   "metadata": {},
   "outputs": [],
   "source": [
    "positives=tf.data.Dataset.zip((anchor,positive,tf.data.Dataset.from_tensor_slices(tf.ones(len(anchor)))))\n",
    "negatives=tf.data.Dataset.zip((anchor,negative,tf.data.Dataset.from_tensor_slices(tf.zeros(len(anchor)))))\n",
    "data=positives.concatenate(negatives)"
   ]
  },
  {
   "cell_type": "code",
   "execution_count": 18,
   "id": "ccc7ffe4",
   "metadata": {},
   "outputs": [
    {
     "data": {
      "text/plain": [
       "<_ConcatenateDataset element_spec=(TensorSpec(shape=(), dtype=tf.string, name=None), TensorSpec(shape=(), dtype=tf.string, name=None), TensorSpec(shape=(), dtype=tf.float32, name=None))>"
      ]
     },
     "execution_count": 18,
     "metadata": {},
     "output_type": "execute_result"
    }
   ],
   "source": [
    "data"
   ]
  },
  {
   "cell_type": "code",
   "execution_count": 19,
   "id": "66d6a33a",
   "metadata": {},
   "outputs": [],
   "source": [
    "samples=data.as_numpy_iterator()"
   ]
  },
  {
   "cell_type": "code",
   "execution_count": 20,
   "id": "7b847ad5",
   "metadata": {},
   "outputs": [],
   "source": [
    "example=samples.next()"
   ]
  },
  {
   "cell_type": "code",
   "execution_count": 21,
   "id": "7788db63",
   "metadata": {},
   "outputs": [
    {
     "data": {
      "text/plain": [
       "(b'data/anchor/69e229e0-9e8e-11ee-837f-c251d09dda8f.jpg',\n",
       " b'data/positive/ecd35e64-9e8e-11ee-837f-c251d09dda8f.jpg',\n",
       " 1.0)"
      ]
     },
     "execution_count": 21,
     "metadata": {},
     "output_type": "execute_result"
    }
   ],
   "source": [
    "example"
   ]
  },
  {
   "cell_type": "code",
   "execution_count": 22,
   "id": "af707852",
   "metadata": {},
   "outputs": [],
   "source": [
    "def preprocess_twin(input_img,validation_img,label):\n",
    "    return(preprocess(input_img),preprocess(validation_img),label)"
   ]
  },
  {
   "cell_type": "code",
   "execution_count": 23,
   "id": "3e9209f7",
   "metadata": {},
   "outputs": [],
   "source": [
    "rs=preprocess_twin(*example)"
   ]
  },
  {
   "cell_type": "code",
   "execution_count": 24,
   "id": "322d3cf4",
   "metadata": {},
   "outputs": [],
   "source": [
    "data=data.map(preprocess_twin)\n",
    "data=data.cache()\n",
    "data=data.shuffle(buffer_size=1024)"
   ]
  },
  {
   "cell_type": "code",
   "execution_count": 25,
   "id": "f63ed637",
   "metadata": {},
   "outputs": [],
   "source": [
    "samples=data.as_numpy_iterator()"
   ]
  },
  {
   "cell_type": "code",
   "execution_count": 26,
   "id": "e636e524",
   "metadata": {},
   "outputs": [],
   "source": [
    "samp=samples.next()"
   ]
  },
  {
   "cell_type": "code",
   "execution_count": 27,
   "id": "88bcfedc",
   "metadata": {},
   "outputs": [
    {
     "data": {
      "text/plain": [
       "<matplotlib.image.AxesImage at 0x29110eec0>"
      ]
     },
     "execution_count": 27,
     "metadata": {},
     "output_type": "execute_result"
    },
    {
     "data": {
      "image/png": "[encoded data removed]",
      "text/plain": [
       "<Figure size 640x480 with 1 Axes>"
      ]
     },
     "metadata": {},
     "output_type": "display_data"
    }
   ],
   "source": [
    "plt.imshow(samp[0])"
   ]
  },
  {
   "cell_type": "code",
   "execution_count": 28,
   "id": "7560ee22",
   "metadata": {},
   "outputs": [
    {
     "data": {
      "text/plain": [
       "<matplotlib.image.AxesImage at 0x2916f0c40>"
      ]
     },
     "execution_count": 28,
     "metadata": {},
     "output_type": "execute_result"
    },
    {
     "data": {
      "image/png": "[encoded data removed]",
      "text/plain": [
       "<Figure size 640x480 with 1 Axes>"
      ]
     },
     "metadata": {},
     "output_type": "display_data"
    }
   ],
   "source": [
    "plt.imshow(samp[1])"
   ]
  },
  {
   "cell_type": "code",
   "execution_count": 29,
   "id": "84304bf1",
   "metadata": {},
   "outputs": [
    {
     "data": {
      "text/plain": [
       "0.0"
      ]
     },
     "execution_count": 29,
     "metadata": {},
     "output_type": "execute_result"
    }
   ],
   "source": [
    "samp[2]"
   ]
  },
  {
   "cell_type": "markdown",
   "id": "47347c30",
   "metadata": {},
   "source": [
    "### splitting the data"
   ]
  },
  {
   "cell_type": "code",
   "execution_count": 30,
   "id": "2c1a314a",
   "metadata": {},
   "outputs": [],
   "source": [
    "train_data=data.take(round(len(data)*.7))\n",
    "train_data=train_data.batch(16)\n",
    "train_data=train_data.prefetch(8)"
   ]
  },
  {
   "cell_type": "code",
   "execution_count": 31,
   "id": "120d60f7",
   "metadata": {},
   "outputs": [
    {
     "data": {
      "text/plain": [
       "27"
      ]
     },
     "execution_count": 31,
     "metadata": {},
     "output_type": "execute_result"
    }
   ],
   "source": [
    "len(train_data)"
   ]
  },
  {
   "cell_type": "code",
   "execution_count": 32,
   "id": "5044b0bd",
   "metadata": {},
   "outputs": [],
   "source": [
    "test_data=data.skip(round(len(data)*.7))\n",
    "test_data=test_data.take(round(len(data)*.3))\n",
    "test_data=test_data.batch(16)\n",
    "test_data=test_data.prefetch(8)"
   ]
  },
  {
   "cell_type": "code",
   "execution_count": 33,
   "id": "3e1fd428",
   "metadata": {},
   "outputs": [
    {
     "data": {
      "text/plain": [
       "12"
      ]
     },
     "execution_count": 33,
     "metadata": {},
     "output_type": "execute_result"
    }
   ],
   "source": [
    "len(test_data)"
   ]
  },
  {
   "cell_type": "markdown",
   "id": "21b734a3",
   "metadata": {},
   "source": [
    "### Model Engineering"
   ]
  },
  {
   "cell_type": "code",
   "execution_count": 34,
   "id": "c9e797b8",
   "metadata": {},
   "outputs": [],
   "source": [
    "def make_embedding():\n",
    "    inp=Input(shape=(100,100,3),name='input_image')\n",
    "    \n",
    "    c1=Conv2D(filters=64,kernel_size=(10,10),activation='relu')(inp)\n",
    "    m1=MaxPool2D(64,(2,2),padding='same')(c1)\n",
    "    \n",
    "    c2=Conv2D(filters=128,kernel_size=(7,7),activation='relu')(m1)\n",
    "    m2=MaxPool2D(64,(2,2),padding='same')(c2)\n",
    "    \n",
    "    c3=Conv2D(filters=128,kernel_size=(4,4),activation='relu')(m2)\n",
    "    m3=MaxPool2D(64,(2,2),padding='same')(c3)\n",
    "    \n",
    "    c4=Conv2D(filters=256,kernel_size=(4,4),activation='relu')(m3)\n",
    "    f1=Flatten()(c4)\n",
    "    d1=Dense(4096,activation='sigmoid')(f1)\n",
    "    \n",
    "    \n",
    "    return Model(inputs=[inp],outputs=[d1],name=\"embedding\")"
   ]
  },
  {
   "cell_type": "code",
   "execution_count": 35,
   "id": "74112fe3",
   "metadata": {},
   "outputs": [],
   "source": [
    "model=make_embedding()"
   ]
  },
  {
   "cell_type": "code",
   "execution_count": 36,
   "id": "266f3d95",
   "metadata": {
    "scrolled": true
   },
   "outputs": [
    {
     "name": "stdout",
     "output_type": "stream",
     "text": [
      "Model: \"embedding\"\n",
      "_________________________________________________________________\n",
      " Layer (type)                Output Shape              Param #   \n",
      "=================================================================\n",
      " input_image (InputLayer)    [(None, 100, 100, 3)]     0         \n",
      "                                                                 \n",
      " conv2d (Conv2D)             (None, 91, 91, 64)        19264     \n",
      "                                                                 \n",
      " max_pooling2d (MaxPooling2  (None, 46, 46, 64)        0         \n",
      " D)                                                              \n",
      "                                                                 \n",
      " conv2d_1 (Conv2D)           (None, 40, 40, 128)       401536    \n",
      "                                                                 \n",
      " max_pooling2d_1 (MaxPoolin  (None, 20, 20, 128)       0         \n",
      " g2D)                                                            \n",
      "                                                                 \n",
      " conv2d_2 (Conv2D)           (None, 17, 17, 128)       262272    \n",
      "                                                                 \n",
      " max_pooling2d_2 (MaxPoolin  (None, 9, 9, 128)         0         \n",
      " g2D)                                                            \n",
      "                                                                 \n",
      " conv2d_3 (Conv2D)           (None, 6, 6, 256)         524544    \n",
      "                                                                 \n",
      " flatten (Flatten)           (None, 9216)              0         \n",
      "                                                                 \n",
      " dense (Dense)               (None, 4096)              37752832  \n",
      "                                                                 \n",
      "=================================================================\n",
      "Total params: 38960448 (148.62 MB)\n",
      "Trainable params: 38960448 (148.62 MB)\n",
      "Non-trainable params: 0 (0.00 Byte)\n",
      "_________________________________________________________________\n"
     ]
    }
   ],
   "source": [
    "model.summary()"
   ]
  },
  {
   "cell_type": "code",
   "execution_count": 37,
   "id": "8566b88d",
   "metadata": {},
   "outputs": [],
   "source": [
    "class L1Dist(Layer):\n",
    "    \n",
    "    def __init__(self,**kwargs):\n",
    "        super().__init__()\n",
    "        \n",
    "    def call(self,input_embedding,validation_embedding):\n",
    "        return tf.math.abs(input_embedding-validation_embedding)"
   ]
  },
  {
   "cell_type": "code",
   "execution_count": 38,
   "id": "ee40e001",
   "metadata": {},
   "outputs": [],
   "source": [
    "l1=L1Dist()"
   ]
  },
  {
   "cell_type": "code",
   "execution_count": 125,
   "id": "9d4a6f0f",
   "metadata": {},
   "outputs": [
    {
     "data": {
      "text/plain": [
       "<__main__.L1Dist at 0x29138b310>"
      ]
     },
     "execution_count": 125,
     "metadata": {},
     "output_type": "execute_result"
    }
   ],
   "source": [
    "l1"
   ]
  },
  {
   "cell_type": "code",
   "execution_count": 41,
   "id": "66c99903",
   "metadata": {},
   "outputs": [],
   "source": [
    "def make_siamese_model():\n",
    "    \n",
    "    input_image=Input(name='input_image',shape=(100,100,3)) #Anchor image\n",
    "    validation_image=Input(name='validation_img',shape=(100,100,3))#Validation Image\n",
    "    \n",
    "    siamese_layer=L1Dist()\n",
    "    siamese_layer._name=\"distance\"\n",
    "    distances=siamese_layer(model(input_image),model(validation_image))\n",
    "    \n",
    "    classifier=Dense(1,activation='sigmoid')(distances)\n",
    "    \n",
    "    return Model(inputs=[input_image,validation_image],outputs=classifier,name='SiameseNetwork')"
   ]
  },
  {
   "cell_type": "code",
   "execution_count": 42,
   "id": "3bc24531",
   "metadata": {},
   "outputs": [],
   "source": [
    "siamese_model=make_siamese_model()"
   ]
  },
  {
   "cell_type": "code",
   "execution_count": 43,
   "id": "a001e621",
   "metadata": {},
   "outputs": [
    {
     "name": "stdout",
     "output_type": "stream",
     "text": [
      "Model: \"SiameseNetwork\"\n",
      "__________________________________________________________________________________________________\n",
      " Layer (type)                Output Shape                 Param #   Connected to                  \n",
      "==================================================================================================\n",
      " input_image (InputLayer)    [(None, 100, 100, 3)]        0         []                            \n",
      "                                                                                                  \n",
      " validation_img (InputLayer  [(None, 100, 100, 3)]        0         []                            \n",
      " )                                                                                                \n",
      "                                                                                                  \n",
      " embedding (Functional)      (None, 4096)                 3896044   ['input_image[0][0]',         \n",
      "                                                          8          'validation_img[0][0]']      \n",
      "                                                                                                  \n",
      " distance (L1Dist)           (None, 4096)                 0         ['embedding[0][0]',           \n",
      "                                                                     'embedding[1][0]']           \n",
      "                                                                                                  \n",
      " dense_1 (Dense)             (None, 1)                    4097      ['distance[0][0]']            \n",
      "                                                                                                  \n",
      "==================================================================================================\n",
      "Total params: 38964545 (148.64 MB)\n",
      "Trainable params: 38964545 (148.64 MB)\n",
      "Non-trainable params: 0 (0.00 Byte)\n",
      "__________________________________________________________________________________________________\n"
     ]
    }
   ],
   "source": [
    "siamese_model.summary()"
   ]
  },
  {
   "cell_type": "code",
   "execution_count": 44,
   "id": "8c9b2476",
   "metadata": {},
   "outputs": [],
   "source": [
    "binary_cross_loss=tf.losses.BinaryCrossentropy()"
   ]
  },
  {
   "cell_type": "code",
   "execution_count": 45,
   "id": "f23b1e4a",
   "metadata": {},
   "outputs": [],
   "source": [
    "opt=tf.optimizers.legacy.Adam(learning_rate=1e-4)"
   ]
  },
  {
   "cell_type": "code",
   "execution_count": 46,
   "id": "e12716e8",
   "metadata": {},
   "outputs": [],
   "source": [
    "checkpoint_dir= './training_checkpoints'\n",
    "checkpoint_prefix=os.path.join(checkpoint_dir,'ckpt')\n",
    "checkpoint=tf.train.Checkpoint(opt=opt,siamese_model=siamese_model)"
   ]
  },
  {
   "cell_type": "code",
   "execution_count": 47,
   "id": "d9c87bb7",
   "metadata": {},
   "outputs": [],
   "source": [
    "test_batch=train_data.as_numpy_iterator()"
   ]
  },
  {
   "cell_type": "code",
   "execution_count": 48,
   "id": "710066d7",
   "metadata": {},
   "outputs": [],
   "source": [
    "batch_1=test_batch.next()"
   ]
  },
  {
   "cell_type": "code",
   "execution_count": 134,
   "id": "7f8b0902",
   "metadata": {},
   "outputs": [],
   "source": [
    "X=batch_1[:2]"
   ]
  },
  {
   "cell_type": "code",
   "execution_count": 135,
   "id": "173a73c2",
   "metadata": {
    "collapsed": true
   },
   "outputs": [
    {
     "data": {
      "text/plain": [
       "(array([[[[0.94191176, 0.94191176, 0.89485294],\n",
       "          [0.95098037, 0.95098037, 0.9117647 ],\n",
       "          [0.94730395, 0.94730395, 0.9080882 ],\n",
       "          ...,\n",
       "          [0.9254902 , 0.92941177, 0.90588236],\n",
       "          [0.9254902 , 0.92941177, 0.90588236],\n",
       "          [0.9254902 , 0.92941177, 0.90588236]],\n",
       " \n",
       "         [[0.9014706 , 0.86813724, 0.82009804],\n",
       "          [0.8901961 , 0.85588235, 0.810049  ],\n",
       "          [0.8784314 , 0.84117645, 0.80196077],\n",
       "          ...,\n",
       "          [0.9254902 , 0.92941177, 0.90588236],\n",
       "          [0.9254902 , 0.92941177, 0.90588236],\n",
       "          [0.9254902 , 0.92941177, 0.90588236]],\n",
       " \n",
       "         [[0.31029412, 0.2365196 , 0.18848039],\n",
       "          [0.30735293, 0.23357843, 0.1860294 ],\n",
       "          [0.29460785, 0.21617647, 0.17671569],\n",
       "          ...,\n",
       "          [0.9254902 , 0.92941177, 0.90588236],\n",
       "          [0.9254902 , 0.92941177, 0.90588236],\n",
       "          [0.9254902 , 0.92941177, 0.90588236]],\n",
       " \n",
       "         ...,\n",
       " \n",
       "         [[0.00392157, 0.        , 0.        ],\n",
       "          [0.02892157, 0.02696078, 0.02794118],\n",
       "          [0.3127451 , 0.3122549 , 0.3125    ],\n",
       "          ...,\n",
       "          [0.16617647, 0.16004902, 0.15294118],\n",
       "          [0.1992647 , 0.19534314, 0.1875    ],\n",
       "          [0.20490196, 0.19901961, 0.2       ]],\n",
       " \n",
       "         [[0.00392157, 0.        , 0.        ],\n",
       "          [0.15661764, 0.1487745 , 0.15269607],\n",
       "          [0.3252451 , 0.31887254, 0.32205883],\n",
       "          ...,\n",
       "          [0.17990196, 0.16495098, 0.15490197],\n",
       "          [0.20318627, 0.19705883, 0.18848039],\n",
       "          [0.18921569, 0.18921569, 0.18137255]],\n",
       " \n",
       "         [[0.05612745, 0.03651961, 0.05220588],\n",
       "          [0.31764707, 0.30980393, 0.31960785],\n",
       "          [0.30171567, 0.29387254, 0.2977941 ],\n",
       "          ...,\n",
       "          [0.17303921, 0.16029412, 0.14264706],\n",
       "          [0.20245098, 0.1992647 , 0.18946078],\n",
       "          [0.20490196, 0.20490196, 0.19705883]]],\n",
       " \n",
       " \n",
       "        [[[0.9237745 , 0.92769605, 0.90416664],\n",
       "          [0.94142157, 0.94558823, 0.9230392 ],\n",
       "          [0.92083335, 0.9286765 , 0.90906864],\n",
       "          ...,\n",
       "          [0.8215686 , 0.75539213, 0.88848037],\n",
       "          [0.8215686 , 0.7644608 , 0.89166665],\n",
       "          [0.83137256, 0.77230394, 0.88161767]],\n",
       " \n",
       "         [[0.8933824 , 0.8875    , 0.8659314 ],\n",
       "          [0.90857846, 0.9046569 , 0.88504905],\n",
       "          [0.95490193, 0.95686275, 0.9372549 ],\n",
       "          ...,\n",
       "          [0.8276961 , 0.7473039 , 0.8892157 ],\n",
       "          [0.8267157 , 0.7480392 , 0.89362746],\n",
       "          [0.8232843 , 0.7656863 , 0.8928922 ]],\n",
       " \n",
       "         [[0.86151963, 0.8497549 , 0.82230395],\n",
       "          [0.8656863 , 0.85588235, 0.83186275],\n",
       "          [0.88529414, 0.8813726 , 0.8625    ],\n",
       "          ...,\n",
       "          [0.8237745 , 0.75416666, 0.8963235 ],\n",
       "          [0.8264706 , 0.7509804 , 0.87107843],\n",
       "          [0.81789213, 0.7414216 , 0.8125    ]],\n",
       " \n",
       "         ...,\n",
       " \n",
       "         [[0.40294117, 0.35416666, 0.2723039 ],\n",
       "          [0.39558825, 0.35563725, 0.29093137],\n",
       "          [0.38357842, 0.35514706, 0.31495097],\n",
       "          ...,\n",
       "          [0.2735294 , 0.26813725, 0.2495098 ],\n",
       "          [0.27181372, 0.2620098 , 0.24338235],\n",
       "          [0.26568627, 0.25588235, 0.2372549 ]],\n",
       " \n",
       "         [[0.41960785, 0.38578433, 0.32965687],\n",
       "          [0.36911765, 0.34289217, 0.29681373],\n",
       "          [0.32965687, 0.31029412, 0.28357843],\n",
       "          ...,\n",
       "          [0.2617647 , 0.25784314, 0.24215686],\n",
       "          [0.26887256, 0.264951  , 0.2492647 ],\n",
       "          [0.25392157, 0.25588235, 0.2372549 ]],\n",
       " \n",
       "         [[0.37156862, 0.35367647, 0.3112745 ],\n",
       "          [0.34460783, 0.33357844, 0.29852942],\n",
       "          [0.30759802, 0.30465686, 0.28284314],\n",
       "          ...,\n",
       "          [0.25196078, 0.24803922, 0.23235294],\n",
       "          [0.25588235, 0.25784314, 0.23921569],\n",
       "          [0.24215686, 0.24607843, 0.22647059]]],\n",
       " \n",
       " \n",
       "        [[[0.77254903, 0.7019608 , 0.8666667 ],\n",
       "          [0.77156866, 0.7019608 , 0.8666667 ],\n",
       "          [0.7745098 , 0.7078431 , 0.872549  ],\n",
       "          ...,\n",
       "          [0.85588235, 0.82303923, 0.9120098 ],\n",
       "          [0.8568627 , 0.8247549 , 0.90710783],\n",
       "          [0.8598039 , 0.8215686 , 0.90343136]],\n",
       " \n",
       "         [[0.7767157 , 0.70612746, 0.87083334],\n",
       "          [0.77254903, 0.7029412 , 0.86764705],\n",
       "          [0.7757353 , 0.70906866, 0.8737745 ],\n",
       "          ...,\n",
       "          [0.8455882 , 0.827451  , 0.9139706 ],\n",
       "          [0.8522059 , 0.83406866, 0.9137255 ],\n",
       "          [0.8502451 , 0.8215686 , 0.8931373 ]],\n",
       " \n",
       "         [[0.777451  , 0.70686275, 0.8715686 ],\n",
       "          [0.7703431 , 0.7029412 , 0.86764705],\n",
       "          [0.7757353 , 0.70906866, 0.8737745 ],\n",
       "          ...,\n",
       "          [0.85882354, 0.8208333 , 0.92009807],\n",
       "          [0.8634804 , 0.82843137, 0.92156863],\n",
       "          [0.8419118 , 0.80220586, 0.8933824 ]],\n",
       " \n",
       "         ...,\n",
       " \n",
       "         [[0.41985294, 0.41764706, 0.3870098 ],\n",
       "          [0.40441176, 0.40833333, 0.38480392],\n",
       "          [0.38406864, 0.39142156, 0.37058824],\n",
       "          ...,\n",
       "          [0.5095588 , 0.3745098 , 0.24289216],\n",
       "          [0.50980395, 0.38039216, 0.2509804 ],\n",
       "          [0.50661767, 0.38088235, 0.24191177]],\n",
       " \n",
       "         [[0.40686274, 0.41495097, 0.3872549 ],\n",
       "          [0.39068627, 0.40098038, 0.37426472],\n",
       "          [0.3465686 , 0.3620098 , 0.3382353 ],\n",
       "          ...,\n",
       "          [0.5242647 , 0.38897058, 0.27034312],\n",
       "          [0.5085784 , 0.38504902, 0.2634804 ],\n",
       "          [0.5056372 , 0.38504902, 0.2605392 ]],\n",
       " \n",
       "         [[0.3754902 , 0.39509803, 0.36764705],\n",
       "          [0.32892156, 0.3485294 , 0.32107842],\n",
       "          [0.3502451 , 0.36985293, 0.34240195],\n",
       "          ...,\n",
       "          [0.5514706 , 0.4127451 , 0.29583332],\n",
       "          [0.53406864, 0.40416667, 0.28284314],\n",
       "          [0.53455883, 0.40514705, 0.28357843]]],\n",
       " \n",
       " \n",
       "        ...,\n",
       " \n",
       " \n",
       "        [[[0.9166667 , 0.92058825, 0.89705884],\n",
       "          [0.94166666, 0.952451  , 0.92696077],\n",
       "          [0.93039215, 0.9382353 , 0.91862744],\n",
       "          ...,\n",
       "          [0.8377451 , 0.7492647 , 0.9171569 ],\n",
       "          [0.8210784 , 0.747549  , 0.9       ],\n",
       "          [0.8308824 , 0.76593137, 0.8857843 ]],\n",
       " \n",
       "         [[0.8870098 , 0.89093137, 0.86740196],\n",
       "          [0.90539217, 0.90931374, 0.8867647 ],\n",
       "          [0.94779414, 0.9517157 , 0.93210787],\n",
       "          ...,\n",
       "          [0.8279412 , 0.7522059 , 0.88014704],\n",
       "          [0.83161765, 0.7522059 , 0.8875    ],\n",
       "          [0.84338236, 0.75808823, 0.8963235 ]],\n",
       " \n",
       "         [[0.8620098 , 0.8659314 , 0.8365196 ],\n",
       "          [0.8448529 , 0.8487745 , 0.8210784 ],\n",
       "          [0.89485294, 0.8987745 , 0.8784314 ],\n",
       "          ...,\n",
       "          [0.8333333 , 0.7531863 , 0.89509803],\n",
       "          [0.8392157 , 0.7436274 , 0.8642157 ],\n",
       "          [0.8308824 , 0.73333335, 0.8147059 ]],\n",
       " \n",
       "         ...,\n",
       " \n",
       "         [[0.41985294, 0.3602941 , 0.26421568],\n",
       "          [0.39093137, 0.34485295, 0.2754902 ],\n",
       "          [0.34730393, 0.32818627, 0.28480393],\n",
       "          ...,\n",
       "          [0.28921568, 0.2747549 , 0.25759804],\n",
       "          [0.27328432, 0.24485295, 0.2262255 ],\n",
       "          [0.2615196 , 0.24191177, 0.21838236]],\n",
       " \n",
       "         [[0.4372549 , 0.3973039 , 0.3345588 ],\n",
       "          [0.36642158, 0.33995098, 0.29362744],\n",
       "          [0.32058823, 0.30710784, 0.27941176],\n",
       "          ...,\n",
       "          [0.26078433, 0.24411765, 0.23137255],\n",
       "          [0.2720588 , 0.2502451 , 0.23529412],\n",
       "          [0.27450982, 0.25490198, 0.2372549 ]],\n",
       " \n",
       "         [[0.35171568, 0.32352942, 0.28357843],\n",
       "          [0.33431372, 0.32034314, 0.2904412 ],\n",
       "          [0.31004903, 0.30759802, 0.29117647],\n",
       "          ...,\n",
       "          [0.25490198, 0.24705882, 0.23137255],\n",
       "          [0.26911765, 0.2495098 , 0.23382352],\n",
       "          [0.25588235, 0.24411765, 0.2245098 ]]],\n",
       " \n",
       " \n",
       "        [[[0.8301471 , 0.8507353 , 0.80465686],\n",
       "          [0.8360294 , 0.8566176 , 0.8125    ],\n",
       "          [0.84705883, 0.8654412 , 0.8352941 ],\n",
       "          ...,\n",
       "          [0.92156863, 0.93333334, 0.8980392 ],\n",
       "          [0.92156863, 0.93333334, 0.8980392 ],\n",
       "          [0.92058825, 0.93235296, 0.89705884]],\n",
       " \n",
       "         [[0.79338235, 0.8276961 , 0.7884804 ],\n",
       "          [0.8718137 , 0.9120098 , 0.87671566],\n",
       "          [0.88039213, 0.91838235, 0.8889706 ],\n",
       "          ...,\n",
       "          [0.9284314 , 0.93235296, 0.9009804 ],\n",
       "          [0.9247549 , 0.9286765 , 0.89730394],\n",
       "          [0.9245098 , 0.9284314 , 0.89705884]],\n",
       " \n",
       "         [[0.8384804 , 0.8375    , 0.8504902 ],\n",
       "          [0.7852941 , 0.78431374, 0.7973039 ],\n",
       "          [0.78357846, 0.782598  , 0.79632354],\n",
       "          ...,\n",
       "          [0.9291667 , 0.93308824, 0.9017157 ],\n",
       "          [0.92769605, 0.9316176 , 0.9002451 ],\n",
       "          [0.9254902 , 0.92941177, 0.8980392 ]],\n",
       " \n",
       "         ...,\n",
       " \n",
       "         [[0.28799018, 0.28112745, 0.26838234],\n",
       "          [0.20882353, 0.19068627, 0.17916666],\n",
       "          [0.12254902, 0.1       , 0.08921569],\n",
       "          ...,\n",
       "          [0.18529412, 0.17990196, 0.16127451],\n",
       "          [0.18259804, 0.17941177, 0.16568628],\n",
       "          [0.22058824, 0.21666667, 0.2009804 ]],\n",
       " \n",
       "         [[0.19362745, 0.17205882, 0.17107843],\n",
       "          [0.10490196, 0.07941177, 0.07745098],\n",
       "          [0.04779412, 0.01568628, 0.0122549 ],\n",
       "          ...,\n",
       "          [0.19607843, 0.16789216, 0.14583333],\n",
       "          [0.18848039, 0.18235295, 0.16936274],\n",
       "          [0.21593137, 0.2120098 , 0.19632353]],\n",
       " \n",
       "         [[0.12156863, 0.08627451, 0.09019608],\n",
       "          [0.07352941, 0.0372549 , 0.04117647],\n",
       "          [0.04730392, 0.00808824, 0.0120098 ],\n",
       "          ...,\n",
       "          [0.3970588 , 0.33039215, 0.2855392 ],\n",
       "          [0.22107843, 0.19901961, 0.17818627],\n",
       "          [0.19607843, 0.18431373, 0.16470589]]],\n",
       " \n",
       " \n",
       "        [[[0.87965685, 0.8776961 , 0.8806372 ],\n",
       "          [0.9120098 , 0.9164216 , 0.9161765 ],\n",
       "          [0.9161765 , 0.91764706, 0.91887254],\n",
       "          ...,\n",
       "          [0.9254902 , 0.92941177, 0.8980392 ],\n",
       "          [0.922549  , 0.9264706 , 0.89509803],\n",
       "          [0.9264706 , 0.9343137 , 0.89117646]],\n",
       " \n",
       "         [[0.83431375, 0.85490197, 0.84313726],\n",
       "          [0.8220588 , 0.8421569 , 0.83112746],\n",
       "          [0.79583335, 0.8122549 , 0.810049  ],\n",
       "          ...,\n",
       "          [0.9264706 , 0.93039215, 0.8990196 ],\n",
       "          [0.9254902 , 0.92941177, 0.8980392 ],\n",
       "          [0.9245098 , 0.93235296, 0.8892157 ]],\n",
       " \n",
       "         [[0.80269605, 0.8125    , 0.80465686],\n",
       "          [0.7877451 , 0.79534316, 0.7889706 ],\n",
       "          [0.75465685, 0.7556372 , 0.7536765 ],\n",
       "          ...,\n",
       "          [0.92941177, 0.93333334, 0.9019608 ],\n",
       "          [0.9286765 , 0.93259805, 0.9012255 ],\n",
       "          [0.9284314 , 0.93333334, 0.8990196 ]],\n",
       " \n",
       "         ...,\n",
       " \n",
       "         [[0.28799018, 0.2723039 , 0.2605392 ],\n",
       "          [0.15416667, 0.1384804 , 0.12867647],\n",
       "          [0.08039216, 0.06470589, 0.06078431],\n",
       "          ...,\n",
       "          [0.1754902 , 0.1754902 , 0.16764706],\n",
       "          [0.19240196, 0.19436274, 0.18553922],\n",
       "          [0.20416667, 0.20808823, 0.1882353 ]],\n",
       " \n",
       "         [[0.12352941, 0.10784314, 0.09607843],\n",
       "          [0.08357843, 0.06789216, 0.05808824],\n",
       "          [0.02892157, 0.01323529, 0.00931373],\n",
       "          ...,\n",
       "          [0.15857843, 0.14607844, 0.13088235],\n",
       "          [0.17156863, 0.17867647, 0.16102941],\n",
       "          [0.20588236, 0.20980392, 0.18627451]],\n",
       " \n",
       "         [[0.08529412, 0.06568628, 0.05392157],\n",
       "          [0.0497549 , 0.03112745, 0.02132353],\n",
       "          [0.02132353, 0.00563726, 0.00171569],\n",
       "          ...,\n",
       "          [0.25465685, 0.21568628, 0.18357843],\n",
       "          [0.19509804, 0.19362745, 0.1747549 ],\n",
       "          [0.18529412, 0.18137255, 0.16176471]]]], dtype=float32),\n",
       " array([[[[9.45098042e-01, 9.52941179e-01, 9.33333337e-01],\n",
       "          [9.21568632e-01, 9.29411769e-01, 9.09803927e-01],\n",
       "          [9.11274493e-01, 9.19117630e-01, 9.05392170e-01],\n",
       "          ...,\n",
       "          [8.32843125e-01, 7.63235271e-01, 8.99509788e-01],\n",
       "          [8.62745106e-01, 7.85784304e-01, 9.14950967e-01],\n",
       "          [8.58578444e-01, 7.84068644e-01, 8.95343125e-01]],\n",
       " \n",
       "         [[9.15196061e-01, 9.17156875e-01, 8.94607842e-01],\n",
       "          [9.55147088e-01, 9.57107842e-01, 9.34558809e-01],\n",
       "          [9.63970602e-01, 9.67401981e-01, 9.46323514e-01],\n",
       "          ...,\n",
       "          [8.45833361e-01, 7.80637264e-01, 8.91911745e-01],\n",
       "          [8.39705884e-01, 7.75980413e-01, 8.86764705e-01],\n",
       "          [8.59803915e-01, 7.94362724e-01, 8.97794127e-01]],\n",
       " \n",
       "         [[8.73529434e-01, 8.63725483e-01, 8.44117641e-01],\n",
       "          [8.84558797e-01, 8.80637228e-01, 8.61029387e-01],\n",
       "          [9.29656863e-01, 9.31617618e-01, 9.09068644e-01],\n",
       "          ...,\n",
       "          [8.48529398e-01, 7.70098031e-01, 9.07352924e-01],\n",
       "          [8.49019587e-01, 7.70588219e-01, 8.79166663e-01],\n",
       "          [8.26225519e-01, 7.43627429e-01, 8.00000012e-01]],\n",
       " \n",
       "         ...,\n",
       " \n",
       "         [[2.88725495e-01, 2.44852945e-01, 2.04656869e-01],\n",
       "          [2.28186280e-01, 1.83088228e-01, 1.56862751e-01],\n",
       "          [2.38480389e-01, 2.01225489e-01, 1.80637255e-01],\n",
       "          ...,\n",
       "          [2.87990183e-01, 2.65686274e-01, 2.39215687e-01],\n",
       "          [3.21078420e-01, 2.78921574e-01, 2.36029416e-01],\n",
       "          [3.43137264e-01, 2.83578426e-01, 2.26960778e-01]],\n",
       " \n",
       "         [[3.46078426e-01, 2.85539210e-01, 2.24999994e-01],\n",
       "          [3.18137258e-01, 2.64950991e-01, 2.17156857e-01],\n",
       "          [2.39215687e-01, 1.88235298e-01, 1.56127453e-01],\n",
       "          ...,\n",
       "          [2.90931374e-01, 2.78676480e-01, 2.57352948e-01],\n",
       "          [2.93627441e-01, 2.80882359e-01, 2.51470596e-01],\n",
       "          [3.18627447e-01, 3.02450985e-01, 2.66421556e-01]],\n",
       " \n",
       "         [[3.73774499e-01, 3.07107836e-01, 2.33088240e-01],\n",
       "          [3.41666669e-01, 2.82598048e-01, 2.17647061e-01],\n",
       "          [3.11519593e-01, 2.60294110e-01, 2.18872547e-01],\n",
       "          ...,\n",
       "          [2.71323532e-01, 2.53676474e-01, 2.29166672e-01],\n",
       "          [3.08088243e-01, 3.05147052e-01, 2.74754912e-01],\n",
       "          [3.00980389e-01, 3.04901958e-01, 2.81372547e-01]]],\n",
       " \n",
       " \n",
       "        [[[3.92156886e-03, 0.00000000e+00, 0.00000000e+00],\n",
       "          [7.35294132e-04, 3.18627455e-03, 0.00000000e+00],\n",
       "          [0.00000000e+00, 3.92156886e-03, 0.00000000e+00],\n",
       "          ...,\n",
       "          [2.45098054e-04, 0.00000000e+00, 0.00000000e+00],\n",
       "          [9.80392215e-04, 0.00000000e+00, 0.00000000e+00],\n",
       "          [5.88235306e-03, 0.00000000e+00, 0.00000000e+00]],\n",
       " \n",
       "         [[0.00000000e+00, 0.00000000e+00, 7.84313772e-03],\n",
       "          [0.00000000e+00, 0.00000000e+00, 7.84313772e-03],\n",
       "          [7.35294132e-04, 0.00000000e+00, 7.84313772e-03],\n",
       "          ...,\n",
       "          [9.80392215e-04, 2.94117653e-03, 0.00000000e+00],\n",
       "          [0.00000000e+00, 5.88235306e-03, 0.00000000e+00],\n",
       "          [0.00000000e+00, 6.86274515e-03, 0.00000000e+00]],\n",
       " \n",
       "         [[0.00000000e+00, 6.86274515e-03, 0.00000000e+00],\n",
       "          [0.00000000e+00, 5.88235306e-03, 0.00000000e+00],\n",
       "          [0.00000000e+00, 2.94117653e-03, 0.00000000e+00],\n",
       "          ...,\n",
       "          [7.35294132e-04, 5.88235306e-03, 0.00000000e+00],\n",
       "          [0.00000000e+00, 4.41176491e-03, 0.00000000e+00],\n",
       "          [0.00000000e+00, 3.92156886e-03, 0.00000000e+00]],\n",
       " \n",
       "         ...,\n",
       " \n",
       "         [[7.85784304e-01, 6.48529410e-01, 4.83823538e-01],\n",
       "          [8.05392146e-01, 6.66911781e-01, 4.92156863e-01],\n",
       "          [8.09068620e-01, 6.61764681e-01, 4.85294104e-01],\n",
       "          ...,\n",
       "          [9.34313715e-01, 5.39215701e-03, 8.16176459e-02],\n",
       "          [9.26715672e-01, 0.00000000e+00, 6.76470622e-02],\n",
       "          [9.04166639e-01, 6.12745108e-03, 5.66176474e-02]],\n",
       " \n",
       "         [[8.02941203e-01, 6.59803927e-01, 4.95098025e-01],\n",
       "          [8.35784316e-01, 6.90686285e-01, 5.18137276e-01],\n",
       "          [8.32598031e-01, 6.87500000e-01, 5.11029422e-01],\n",
       "          ...,\n",
       "          [8.93137276e-01, 0.00000000e+00, 5.53921573e-02],\n",
       "          [8.90196085e-01, 0.00000000e+00, 4.95098047e-02],\n",
       "          [8.80147040e-01, 6.12745108e-03, 4.90196086e-02]],\n",
       " \n",
       "         [[8.19607854e-01, 6.74509823e-01, 5.09803951e-01],\n",
       "          [8.24509799e-01, 6.79411769e-01, 5.06862760e-01],\n",
       "          [8.21568608e-01, 6.85294092e-01, 5.05882382e-01],\n",
       "          ...,\n",
       "          [8.83333325e-01, 1.05392160e-02, 7.37745091e-02],\n",
       "          [8.81127477e-01, 9.80392215e-04, 6.34803921e-02],\n",
       "          [8.72548997e-01, 8.82352982e-03, 6.86274543e-02]]],\n",
       " \n",
       " \n",
       "        [[[3.92156886e-03, 0.00000000e+00, 1.96078443e-03],\n",
       "          [0.00000000e+00, 0.00000000e+00, 1.96078443e-03],\n",
       "          [0.00000000e+00, 0.00000000e+00, 1.96078443e-03],\n",
       "          ...,\n",
       "          [0.00000000e+00, 3.18627455e-03, 1.96078443e-03],\n",
       "          [0.00000000e+00, 9.06862784e-03, 7.10784318e-03],\n",
       "          [0.00000000e+00, 6.86274515e-03, 4.90196096e-03]],\n",
       " \n",
       "         [[1.05882354e-01, 5.88235306e-03, 7.84313772e-03],\n",
       "          [1.06862746e-01, 6.86274515e-03, 8.82352982e-03],\n",
       "          [1.07843138e-01, 7.84313772e-03, 9.80392192e-03],\n",
       "          ...,\n",
       "          [4.11764719e-02, 3.92156877e-02, 2.35294122e-02],\n",
       "          [4.63235304e-02, 5.02450988e-02, 3.35784331e-02],\n",
       "          [4.92647067e-02, 5.71078435e-02, 3.75000015e-02]],\n",
       " \n",
       "         [[3.94117653e-01, 4.09313738e-02, 4.80392165e-02],\n",
       "          [4.04901952e-01, 4.50980403e-02, 5.29411770e-02],\n",
       "          [4.11764711e-01, 5.19607849e-02, 5.98039217e-02],\n",
       "          ...,\n",
       "          [2.40196079e-01, 2.22549021e-01, 1.50000006e-01],\n",
       "          [2.90931374e-01, 2.85539210e-01, 2.09803924e-01],\n",
       "          [3.27450991e-01, 3.28186274e-01, 2.50735283e-01]],\n",
       " \n",
       "         ...,\n",
       " \n",
       "         [[7.84313772e-03, 1.17647061e-02, 8.60294104e-02],\n",
       "          [1.47058826e-03, 1.71568629e-03, 7.23039210e-02],\n",
       "          [2.64705885e-02, 2.30392162e-02, 8.77451003e-02],\n",
       "          ...,\n",
       "          [2.27450982e-01, 2.78431386e-01, 4.82352942e-01],\n",
       "          [2.08823532e-01, 2.59803921e-01, 4.63725477e-01],\n",
       "          [2.18627453e-01, 2.69607842e-01, 4.73529398e-01]],\n",
       " \n",
       "         [[4.85294126e-02, 5.53921573e-02, 1.43627450e-01],\n",
       "          [1.42156864e-02, 1.81372557e-02, 9.95098054e-02],\n",
       "          [5.14705898e-03, 7.59803923e-03, 8.40686262e-02],\n",
       "          ...,\n",
       "          [2.09558830e-01, 2.60539204e-01, 4.64460790e-01],\n",
       "          [2.11029410e-01, 2.62009799e-01, 4.65931386e-01],\n",
       "          [2.16666669e-01, 2.67647058e-01, 4.71568614e-01]],\n",
       " \n",
       "         [[1.33333340e-01, 1.39460787e-01, 2.42647052e-01],\n",
       "          [5.14705889e-02, 5.73529415e-02, 1.50000006e-01],\n",
       "          [1.22549024e-03, 4.16666688e-03, 8.72549042e-02],\n",
       "          ...,\n",
       "          [1.96078435e-01, 2.47058824e-01, 4.50980395e-01],\n",
       "          [1.96078435e-01, 2.47058824e-01, 4.50980395e-01],\n",
       "          [2.03921571e-01, 2.54901975e-01, 4.58823532e-01]]],\n",
       " \n",
       " \n",
       "        ...,\n",
       " \n",
       " \n",
       "        [[[8.00735295e-01, 7.75980413e-01, 7.62990177e-01],\n",
       "          [7.95833349e-01, 7.78676450e-01, 7.71078408e-01],\n",
       "          [7.90196061e-01, 7.71568656e-01, 7.61764705e-01],\n",
       "          ...,\n",
       "          [8.30637276e-01, 7.59313703e-01, 9.07107830e-01],\n",
       "          [8.38970602e-01, 7.54656851e-01, 8.95343125e-01],\n",
       "          [8.26470613e-01, 7.50245094e-01, 8.88725519e-01]],\n",
       " \n",
       "         [[8.31617653e-01, 8.21323514e-01, 7.85294116e-01],\n",
       "          [8.08333337e-01, 8.04411769e-01, 7.85784304e-01],\n",
       "          [8.08823526e-01, 7.98774481e-01, 7.86519587e-01],\n",
       "          ...,\n",
       "          [8.48774493e-01, 7.76960790e-01, 9.08088207e-01],\n",
       "          [8.65686297e-01, 7.90196061e-01, 9.18627441e-01],\n",
       "          [8.34313750e-01, 7.69607842e-01, 8.96078408e-01]],\n",
       " \n",
       "         [[9.39705908e-01, 9.42647040e-01, 9.20098066e-01],\n",
       "          [9.44362760e-01, 9.45343137e-01, 9.34558809e-01],\n",
       "          [9.37745094e-01, 9.37009811e-01, 9.35048997e-01],\n",
       "          ...,\n",
       "          [8.22549045e-01, 7.40931392e-01, 8.93872559e-01],\n",
       "          [8.39705884e-01, 7.57598042e-01, 9.14460778e-01],\n",
       "          [8.31862748e-01, 7.58823514e-01, 9.02205884e-01]],\n",
       " \n",
       "         ...,\n",
       " \n",
       "         [[4.13480401e-01, 3.46813738e-01, 2.44852945e-01],\n",
       "          [3.74264717e-01, 3.11274499e-01, 2.15931371e-01],\n",
       "          [3.55882347e-01, 2.98529416e-01, 2.24019602e-01],\n",
       "          ...,\n",
       "          [2.68137246e-01, 2.50000000e-01, 2.35784307e-01],\n",
       "          [2.88480401e-01, 2.43382350e-01, 2.14705884e-01],\n",
       "          [2.64460772e-01, 1.95588231e-01, 1.59558818e-01]],\n",
       " \n",
       "         [[4.30637240e-01, 3.63970578e-01, 2.62009799e-01],\n",
       "          [3.99019599e-01, 3.41666669e-01, 2.55392164e-01],\n",
       "          [3.73529404e-01, 3.37254912e-01, 2.74264693e-01],\n",
       "          ...,\n",
       "          [2.62990206e-01, 2.56127447e-01, 2.47303918e-01],\n",
       "          [2.87499994e-01, 2.64950991e-01, 2.44117647e-01],\n",
       "          [3.09558809e-01, 2.72549033e-01, 2.49754906e-01]],\n",
       " \n",
       "         [[4.15196091e-01, 3.52450967e-01, 2.53431380e-01],\n",
       "          [4.01225477e-01, 3.54411751e-01, 2.74264693e-01],\n",
       "          [3.67156863e-01, 3.42647046e-01, 2.91666657e-01],\n",
       "          ...,\n",
       "          [2.65686274e-01, 2.50245094e-01, 2.37990201e-01],\n",
       "          [2.66911775e-01, 2.49264702e-01, 2.26715684e-01],\n",
       "          [2.62745112e-01, 2.43137255e-01, 2.19607845e-01]]],\n",
       " \n",
       " \n",
       "        [[[7.42647052e-01, 6.95588231e-01, 8.36764693e-01],\n",
       "          [7.50735283e-01, 7.03676462e-01, 8.44852924e-01],\n",
       "          [7.51470566e-01, 7.04411745e-01, 8.45588207e-01],\n",
       "          ...,\n",
       "          [7.29166687e-01, 6.59558833e-01, 8.37009788e-01],\n",
       "          [7.28431344e-01, 6.49999976e-01, 8.51470590e-01],\n",
       "          [7.41176486e-01, 6.54166639e-01, 8.47058833e-01]],\n",
       " \n",
       "         [[7.48284340e-01, 6.99264705e-01, 8.40441167e-01],\n",
       "          [7.54901946e-01, 7.05882370e-01, 8.47058833e-01],\n",
       "          [7.59803951e-01, 7.10784316e-01, 8.51960778e-01],\n",
       "          ...,\n",
       "          [7.43137240e-01, 6.62990212e-01, 8.42401981e-01],\n",
       "          [7.65441179e-01, 6.77205861e-01, 8.68382335e-01],\n",
       "          [7.89460778e-01, 6.99264705e-01, 8.75735283e-01]],\n",
       " \n",
       "         [[7.49264717e-01, 6.91421568e-01, 8.41421545e-01],\n",
       "          [7.58823514e-01, 7.00980365e-01, 8.50980401e-01],\n",
       "          [7.68627465e-01, 7.10784316e-01, 8.60784292e-01],\n",
       "          ...,\n",
       "          [7.60784328e-01, 6.74019635e-01, 8.55637252e-01],\n",
       "          [7.59313703e-01, 6.71813726e-01, 8.53431344e-01],\n",
       "          [7.83088207e-01, 6.98774517e-01, 8.66421580e-01]],\n",
       " \n",
       "         ...,\n",
       " \n",
       "         [[3.96813720e-01, 3.92892152e-01, 3.76225501e-01],\n",
       "          [3.63235295e-01, 3.59313726e-01, 3.43627453e-01],\n",
       "          [3.58823538e-01, 3.54901969e-01, 3.43627453e-01],\n",
       "          ...,\n",
       "          [3.26715678e-01, 3.17401975e-01, 3.03431362e-01],\n",
       "          [3.28431368e-01, 3.09558809e-01, 2.97058821e-01],\n",
       "          [3.25490206e-01, 3.02941173e-01, 2.88235307e-01]],\n",
       " \n",
       "         [[3.88235301e-01, 3.84313732e-01, 3.64705890e-01],\n",
       "          [3.50490183e-01, 3.46568614e-01, 3.27941179e-01],\n",
       "          [3.74754906e-01, 3.70833337e-01, 3.54411751e-01],\n",
       "          ...,\n",
       "          [3.32598031e-01, 3.18137258e-01, 3.01225483e-01],\n",
       "          [3.29411775e-01, 3.03186268e-01, 2.89950967e-01],\n",
       "          [3.32107842e-01, 3.03676456e-01, 2.83088237e-01]],\n",
       " \n",
       "         [[3.85049015e-01, 3.85049015e-01, 3.53676468e-01],\n",
       "          [3.60784322e-01, 3.56862754e-01, 3.37254912e-01],\n",
       "          [3.42401952e-01, 3.38480383e-01, 3.18872541e-01],\n",
       "          ...,\n",
       "          [3.63970578e-01, 3.50245088e-01, 3.31617653e-01],\n",
       "          [2.99019605e-01, 2.73529410e-01, 2.51960784e-01],\n",
       "          [3.28431368e-01, 2.93137252e-01, 2.73529410e-01]]],\n",
       " \n",
       " \n",
       "        [[[0.00000000e+00, 0.00000000e+00, 0.00000000e+00],\n",
       "          [0.00000000e+00, 0.00000000e+00, 0.00000000e+00],\n",
       "          [0.00000000e+00, 0.00000000e+00, 0.00000000e+00],\n",
       "          ...,\n",
       "          [0.00000000e+00, 0.00000000e+00, 3.43137258e-03],\n",
       "          [0.00000000e+00, 0.00000000e+00, 6.37254911e-03],\n",
       "          [0.00000000e+00, 0.00000000e+00, 6.37254911e-03]],\n",
       " \n",
       "         [[0.00000000e+00, 9.80392215e-04, 0.00000000e+00],\n",
       "          [0.00000000e+00, 9.80392215e-04, 0.00000000e+00],\n",
       "          [0.00000000e+00, 9.80392215e-04, 0.00000000e+00],\n",
       "          ...,\n",
       "          [0.00000000e+00, 9.80392215e-04, 0.00000000e+00],\n",
       "          [0.00000000e+00, 9.80392215e-04, 0.00000000e+00],\n",
       "          [0.00000000e+00, 9.80392215e-04, 0.00000000e+00]],\n",
       " \n",
       "         [[0.00000000e+00, 3.92156886e-03, 0.00000000e+00],\n",
       "          [0.00000000e+00, 3.92156886e-03, 0.00000000e+00],\n",
       "          [0.00000000e+00, 3.92156886e-03, 0.00000000e+00],\n",
       "          ...,\n",
       "          [0.00000000e+00, 3.92156886e-03, 0.00000000e+00],\n",
       "          [0.00000000e+00, 3.92156886e-03, 0.00000000e+00],\n",
       "          [0.00000000e+00, 3.92156886e-03, 0.00000000e+00]],\n",
       " \n",
       "         ...,\n",
       " \n",
       "         [[2.12745100e-01, 1.96078435e-01, 2.02941179e-01],\n",
       "          [2.20588237e-01, 2.03676477e-01, 1.98529407e-01],\n",
       "          [2.22794116e-01, 1.95588231e-01, 1.88970596e-01],\n",
       "          ...,\n",
       "          [7.55882382e-01, 2.18627453e-01, 1.31372556e-01],\n",
       "          [7.93137252e-01, 2.32352942e-01, 1.37254909e-01],\n",
       "          [7.84068644e-01, 2.12254897e-01, 1.09068625e-01]],\n",
       " \n",
       "         [[2.04656869e-01, 1.85049012e-01, 2.00735301e-01],\n",
       "          [2.10784316e-01, 1.94607839e-01, 1.96813732e-01],\n",
       "          [2.14705884e-01, 1.94852948e-01, 2.05882356e-01],\n",
       "          ...,\n",
       "          [7.60784328e-01, 2.14705884e-01, 1.30392164e-01],\n",
       "          [7.80392170e-01, 2.25490198e-01, 1.32352948e-01],\n",
       "          [7.74509788e-01, 2.07843140e-01, 1.06862746e-01]],\n",
       " \n",
       "         [[2.02941179e-01, 1.83333337e-01, 1.99019611e-01],\n",
       "          [1.99019611e-01, 1.79411769e-01, 1.95098042e-01],\n",
       "          [1.99019611e-01, 1.79411769e-01, 2.01715693e-01],\n",
       "          ...,\n",
       "          [7.65686274e-01, 2.19607845e-01, 1.35294124e-01],\n",
       "          [7.72549033e-01, 2.17647061e-01, 1.24509804e-01],\n",
       "          [7.52696097e-01, 1.99754909e-01, 9.38725471e-02]]]],\n",
       "       dtype=float32))"
      ]
     },
     "execution_count": 135,
     "metadata": {},
     "output_type": "execute_result"
    }
   ],
   "source": [
    "X"
   ]
  },
  {
   "cell_type": "code",
   "execution_count": 136,
   "id": "1fa30f9f",
   "metadata": {},
   "outputs": [],
   "source": [
    "y=batch_1[2]"
   ]
  },
  {
   "cell_type": "code",
   "execution_count": 138,
   "id": "a9789d56",
   "metadata": {},
   "outputs": [
    {
     "data": {
      "text/plain": [
       "16"
      ]
     },
     "execution_count": 138,
     "metadata": {},
     "output_type": "execute_result"
    }
   ],
   "source": [
    "len(y)"
   ]
  },
  {
   "cell_type": "code",
   "execution_count": null,
   "id": "604d0eea",
   "metadata": {},
   "outputs": [],
   "source": []
  },
  {
   "cell_type": "code",
   "execution_count": 50,
   "id": "00d20f6c",
   "metadata": {
    "scrolled": true
   },
   "outputs": [
    {
     "data": {
      "text/plain": [
       "(2, 16, 100, 100, 3)"
      ]
     },
     "execution_count": 50,
     "metadata": {},
     "output_type": "execute_result"
    }
   ],
   "source": [
    "np.array(X).shape"
   ]
  },
  {
   "cell_type": "code",
   "execution_count": 51,
   "id": "b626bb38",
   "metadata": {},
   "outputs": [],
   "source": [
    "y=batch_1[2]"
   ]
  },
  {
   "cell_type": "code",
   "execution_count": 52,
   "id": "04e02185",
   "metadata": {},
   "outputs": [
    {
     "data": {
      "text/plain": [
       "array([1., 0., 0., 1., 0., 1., 0., 0., 1., 0., 1., 1., 0., 1., 1., 0.],\n",
       "      dtype=float32)"
      ]
     },
     "execution_count": 52,
     "metadata": {},
     "output_type": "execute_result"
    }
   ],
   "source": [
    "y"
   ]
  },
  {
   "cell_type": "markdown",
   "id": "8e15347a",
   "metadata": {},
   "source": [
    "### Training the network"
   ]
  },
  {
   "cell_type": "code",
   "execution_count": 53,
   "id": "819cd2fc",
   "metadata": {},
   "outputs": [],
   "source": [
    "@tf.function\n",
    "def train_step(batch):\n",
    "    \n",
    "    with tf.GradientTape() as tape:\n",
    "       \n",
    "        X=batch[:2]\n",
    "        y=batch[2]\n",
    "        \n",
    "        yhat=siamese_model(X,training=True)\n",
    "        \n",
    "        loss=binary_cross_loss(y,yhat)\n",
    "        print(loss)\n",
    "       \n",
    "    grad=tape.gradient(loss,siamese_model.trainable_variables)\n",
    "    opt.apply_gradients(zip(grad,siamese_model.trainable_variables))\n",
    "    \n",
    "    return loss    "
   ]
  },
  {
   "cell_type": "code",
   "execution_count": 54,
   "id": "3c779aa2",
   "metadata": {},
   "outputs": [],
   "source": [
    "def train(data,EPOCHS):\n",
    "    for epoch in range(1,EPOCHS+1):\n",
    "        print('\\n Epoch{}/{}'.format(epoch,EPOCHS))\n",
    "        progbar=tf.keras.utils.Progbar(len(data))\n",
    "        \n",
    "        for idx,batch in enumerate(data):\n",
    "            train_step(batch)\n",
    "            progbar.update(idx+1)\n",
    "            \n",
    "        if epoch%10 ==0 :\n",
    "            checkpoint.save(file_prefix=checkpoint_prefix)"
   ]
  },
  {
   "cell_type": "code",
   "execution_count": 55,
   "id": "d0137b36",
   "metadata": {},
   "outputs": [],
   "source": [
    "EPOCHS=50"
   ]
  },
  {
   "cell_type": "code",
   "execution_count": 68,
   "id": "1279f92e",
   "metadata": {
    "scrolled": true
   },
   "outputs": [
    {
     "name": "stdout",
     "output_type": "stream",
     "text": [
      "\n",
      " Epoch1/50\n",
      "Tensor(\"binary_crossentropy/weighted_loss/value:0\", shape=(), dtype=float32)\n",
      "Tensor(\"binary_crossentropy/weighted_loss/value:0\", shape=(), dtype=float32)\n",
      "26/27 [===========================>..] - ETA: 1sTensor(\"binary_crossentropy/weighted_loss/value:0\", shape=(), dtype=float32)\n",
      "27/27 [==============================] - 54s 2s/step\n",
      "\n",
      " Epoch2/50\n",
      "27/27 [==============================] - 47s 2s/step\n",
      "\n",
      " Epoch3/50\n",
      "27/27 [==============================] - 47s 2s/step\n",
      "\n",
      " Epoch4/50\n",
      "27/27 [==============================] - 47s 2s/step\n",
      "\n",
      " Epoch5/50\n",
      "27/27 [==============================] - 47s 2s/step\n",
      "\n",
      " Epoch6/50\n",
      "27/27 [==============================] - 47s 2s/step\n",
      "\n",
      " Epoch7/50\n",
      "27/27 [==============================] - 47s 2s/step\n",
      "\n",
      " Epoch8/50\n",
      "27/27 [==============================] - 47s 2s/step\n",
      "\n",
      " Epoch9/50\n",
      "27/27 [==============================] - 47s 2s/step\n",
      "\n",
      " Epoch10/50\n",
      "27/27 [==============================] - 47s 2s/step\n",
      "\n",
      " Epoch11/50\n",
      "27/27 [==============================] - 47s 2s/step\n",
      "\n",
      " Epoch12/50\n",
      "27/27 [==============================] - 47s 2s/step\n",
      "\n",
      " Epoch13/50\n",
      "27/27 [==============================] - 47s 2s/step\n",
      "\n",
      " Epoch14/50\n",
      "27/27 [==============================] - 47s 2s/step\n",
      "\n",
      " Epoch15/50\n",
      "27/27 [==============================] - 48s 2s/step\n",
      "\n",
      " Epoch16/50\n",
      "27/27 [==============================] - 48s 2s/step\n",
      "\n",
      " Epoch17/50\n",
      "27/27 [==============================] - 47s 2s/step\n",
      "\n",
      " Epoch18/50\n",
      "27/27 [==============================] - 47s 2s/step\n",
      "\n",
      " Epoch19/50\n",
      "27/27 [==============================] - 47s 2s/step\n",
      "\n",
      " Epoch20/50\n",
      "27/27 [==============================] - 47s 2s/step\n",
      "\n",
      " Epoch21/50\n",
      "27/27 [==============================] - 47s 2s/step\n",
      "\n",
      " Epoch22/50\n",
      "27/27 [==============================] - 51s 2s/step\n",
      "\n",
      " Epoch23/50\n",
      "27/27 [==============================] - 54s 2s/step\n",
      "\n",
      " Epoch24/50\n",
      "27/27 [==============================] - 51s 2s/step\n",
      "\n",
      " Epoch25/50\n",
      "27/27 [==============================] - 50s 2s/step\n",
      "\n",
      " Epoch26/50\n",
      "27/27 [==============================] - 50s 2s/step\n",
      "\n",
      " Epoch27/50\n",
      "27/27 [==============================] - 50s 2s/step\n",
      "\n",
      " Epoch28/50\n",
      "27/27 [==============================] - 50s 2s/step\n",
      "\n",
      " Epoch29/50\n",
      "27/27 [==============================] - 50s 2s/step\n",
      "\n",
      " Epoch30/50\n",
      "27/27 [==============================] - 50s 2s/step\n",
      "\n",
      " Epoch31/50\n",
      "27/27 [==============================] - 50s 2s/step\n",
      "\n",
      " Epoch32/50\n",
      "27/27 [==============================] - 51s 2s/step\n",
      "\n",
      " Epoch33/50\n",
      "27/27 [==============================] - 51s 2s/step\n",
      "\n",
      " Epoch34/50\n",
      "27/27 [==============================] - 51s 2s/step\n",
      "\n",
      " Epoch35/50\n",
      "27/27 [==============================] - 51s 2s/step\n",
      "\n",
      " Epoch36/50\n",
      "27/27 [==============================] - 51s 2s/step\n",
      "\n",
      " Epoch37/50\n",
      "27/27 [==============================] - 51s 2s/step\n",
      "\n",
      " Epoch38/50\n",
      "27/27 [==============================] - 51s 2s/step\n",
      "\n",
      " Epoch39/50\n",
      "27/27 [==============================] - 51s 2s/step\n",
      "\n",
      " Epoch40/50\n",
      "27/27 [==============================] - 51s 2s/step\n",
      "\n",
      " Epoch41/50\n",
      "27/27 [==============================] - 50s 2s/step\n",
      "\n",
      " Epoch42/50\n",
      "27/27 [==============================] - 51s 2s/step\n",
      "\n",
      " Epoch43/50\n",
      "27/27 [==============================] - 51s 2s/step\n",
      "\n",
      " Epoch44/50\n",
      "27/27 [==============================] - 51s 2s/step\n",
      "\n",
      " Epoch45/50\n",
      "27/27 [==============================] - 51s 2s/step\n",
      "\n",
      " Epoch46/50\n",
      "27/27 [==============================] - 51s 2s/step\n",
      "\n",
      " Epoch47/50\n",
      "27/27 [==============================] - 55s 2s/step\n",
      "\n",
      " Epoch48/50\n",
      "27/27 [==============================] - 54s 2s/step\n",
      "\n",
      " Epoch49/50\n",
      "27/27 [==============================] - 50s 2s/step\n",
      "\n",
      " Epoch50/50\n",
      "27/27 [==============================] - 50s 2s/step\n"
     ]
    }
   ],
   "source": [
    "train(train_data,EPOCHS)"
   ]
  },
  {
   "cell_type": "code",
   "execution_count": 69,
   "id": "967d8474",
   "metadata": {},
   "outputs": [],
   "source": [
    "from tensorflow.keras.metrics import Precision,Recall"
   ]
  },
  {
   "cell_type": "code",
   "execution_count": 70,
   "id": "d19de737",
   "metadata": {},
   "outputs": [],
   "source": [
    "test_input,test_val,y_true=test_data.as_numpy_iterator().next()"
   ]
  },
  {
   "cell_type": "code",
   "execution_count": 142,
   "id": "beb202ba",
   "metadata": {},
   "outputs": [
    {
     "name": "stdout",
     "output_type": "stream",
     "text": [
      "1/1 [==============================] - 0s 205ms/step\n"
     ]
    },
    {
     "data": {
      "text/plain": [
       "array([[1.0000000e+00],\n",
       "       [1.0000000e+00],\n",
       "       [2.2580130e-05],\n",
       "       [9.9999893e-01],\n",
       "       [1.2892158e-11],\n",
       "       [1.0000000e+00],\n",
       "       [9.9998987e-01],\n",
       "       [1.6240159e-10],\n",
       "       [3.4550126e-07],\n",
       "       [1.0000000e+00],\n",
       "       [3.3640781e-11],\n",
       "       [8.5465114e-11],\n",
       "       [1.6016024e-06],\n",
       "       [1.0000000e+00],\n",
       "       [6.8496064e-10],\n",
       "       [4.7547459e-11]], dtype=float32)"
      ]
     },
     "execution_count": 142,
     "metadata": {},
     "output_type": "execute_result"
    }
   ],
   "source": [
    "y_hat=siamese_model.predict([test_input,test_val])\n",
    "y_hat"
   ]
  },
  {
   "cell_type": "code",
   "execution_count": 72,
   "id": "8f4e93be",
   "metadata": {},
   "outputs": [
    {
     "data": {
      "text/plain": [
       "[1, 1, 0, 1, 0, 1, 1, 0, 0, 1, 0, 0, 0, 1, 0, 0]"
      ]
     },
     "execution_count": 72,
     "metadata": {},
     "output_type": "execute_result"
    }
   ],
   "source": [
    "[1 if prediction>0.5 else 0 for prediction in y_hat]"
   ]
  },
  {
   "cell_type": "code",
   "execution_count": 73,
   "id": "c91b7c82",
   "metadata": {},
   "outputs": [
    {
     "data": {
      "text/plain": [
       "array([1., 1., 0., 1., 0., 1., 1., 0., 0., 1., 0., 0., 0., 1., 0., 0.],\n",
       "      dtype=float32)"
      ]
     },
     "execution_count": 73,
     "metadata": {},
     "output_type": "execute_result"
    }
   ],
   "source": [
    "y_true"
   ]
  },
  {
   "cell_type": "code",
   "execution_count": 74,
   "id": "fbe50a26",
   "metadata": {},
   "outputs": [
    {
     "name": "stdout",
     "output_type": "stream",
     "text": [
      "1.0\n",
      "1.0\n"
     ]
    }
   ],
   "source": [
    "r=Recall()\n",
    "r.update_state(y_true,y_hat)\n",
    "print(r.result().numpy())\n",
    "\n",
    "p=Recall()\n",
    "p.update_state(y_true,y_hat)\n",
    "print(p.result().numpy())"
   ]
  },
  {
   "cell_type": "code",
   "execution_count": 75,
   "id": "7d378079",
   "metadata": {},
   "outputs": [
    {
     "data": {
      "image/png": "[encoded data removed]",
      "text/plain": [
       "<Figure size 1800x800 with 2 Axes>"
      ]
     },
     "metadata": {},
     "output_type": "display_data"
    }
   ],
   "source": [
    "plt.figure(figsize=(18,8))\n",
    "\n",
    "plt.subplot(1,2,1)\n",
    "plt.imshow(test_input[2])\n",
    "\n",
    "plt.subplot(1,2,2)\n",
    "plt.imshow(test_val[2])\n",
    "\n",
    "plt.show()"
   ]
  },
  {
   "cell_type": "markdown",
   "id": "5b777f5e",
   "metadata": {},
   "source": [
    "### Saving the model"
   ]
  },
  {
   "cell_type": "code",
   "execution_count": 76,
   "id": "d806c63f",
   "metadata": {},
   "outputs": [
    {
     "name": "stdout",
     "output_type": "stream",
     "text": [
      "WARNING:tensorflow:Compiled the loaded model, but the compiled metrics have yet to be built. `model.compile_metrics` will be empty until you train or evaluate the model.\n"
     ]
    }
   ],
   "source": [
    "siamese_model.save('siamesemodel.h5')"
   ]
  },
  {
   "cell_type": "code",
   "execution_count": 77,
   "id": "fcdb4429",
   "metadata": {},
   "outputs": [],
   "source": [
    "siamese_model.save('siamesemodel.keras')"
   ]
  },
  {
   "cell_type": "code",
   "execution_count": 78,
   "id": "e09fcdc2",
   "metadata": {},
   "outputs": [
    {
     "name": "stdout",
     "output_type": "stream",
     "text": [
      "WARNING:tensorflow:No training configuration found in the save file, so the model was *not* compiled. Compile it manually.\n"
     ]
    }
   ],
   "source": [
    "model=tf.keras.models.load_model('siamesemodel.h5',\n",
    "        custom_objects={'L1Dist':L1Dist,'BinaryCrossentropy':tf.losses.BinaryCrossentropy})"
   ]
  },
  {
   "cell_type": "code",
   "execution_count": 79,
   "id": "5a2e77e5",
   "metadata": {},
   "outputs": [
    {
     "name": "stdout",
     "output_type": "stream",
     "text": [
      "1/1 [==============================] - 1s 653ms/step\n"
     ]
    },
    {
     "data": {
      "text/plain": [
       "array([[1.0000000e+00],\n",
       "       [1.0000000e+00],\n",
       "       [2.2580130e-05],\n",
       "       [9.9999893e-01],\n",
       "       [1.2892158e-11],\n",
       "       [1.0000000e+00],\n",
       "       [9.9998987e-01],\n",
       "       [1.6240159e-10],\n",
       "       [3.4550126e-07],\n",
       "       [1.0000000e+00],\n",
       "       [3.3640781e-11],\n",
       "       [8.5465114e-11],\n",
       "       [1.6016024e-06],\n",
       "       [1.0000000e+00],\n",
       "       [6.8496064e-10],\n",
       "       [4.7547459e-11]], dtype=float32)"
      ]
     },
     "execution_count": 79,
     "metadata": {},
     "output_type": "execute_result"
    }
   ],
   "source": [
    "model.predict([test_input,test_val])"
   ]
  },
  {
   "cell_type": "code",
   "execution_count": 81,
   "id": "a021c297",
   "metadata": {},
   "outputs": [
    {
     "name": "stdout",
     "output_type": "stream",
     "text": [
      "Model: \"SiameseNetwork\"\n",
      "__________________________________________________________________________________________________\n",
      " Layer (type)                Output Shape                 Param #   Connected to                  \n",
      "==================================================================================================\n",
      " input_image (InputLayer)    [(None, 100, 100, 3)]        0         []                            \n",
      "                                                                                                  \n",
      " validation_img (InputLayer  [(None, 100, 100, 3)]        0         []                            \n",
      " )                                                                                                \n",
      "                                                                                                  \n",
      " embedding (Functional)      (None, 4096)                 3896044   ['input_image[0][0]',         \n",
      "                                                          8          'validation_img[0][0]']      \n",
      "                                                                                                  \n",
      " l1_dist_4 (L1Dist)          (None, 4096)                 0         ['embedding[0][0]',           \n",
      "                                                                     'embedding[1][0]']           \n",
      "                                                                                                  \n",
      " dense_1 (Dense)             (None, 1)                    4097      ['l1_dist_4[0][0]']           \n",
      "                                                                                                  \n",
      "==================================================================================================\n",
      "Total params: 38964545 (148.64 MB)\n",
      "Trainable params: 38964545 (148.64 MB)\n",
      "Non-trainable params: 0 (0.00 Byte)\n",
      "__________________________________________________________________________________________________\n"
     ]
    }
   ],
   "source": [
    "model.summary()"
   ]
  },
  {
   "cell_type": "markdown",
   "id": "60a66363",
   "metadata": {},
   "source": [
    "### Testing"
   ]
  },
  {
   "cell_type": "markdown",
   "id": "672ee163",
   "metadata": {},
   "source": [
    "### verification function"
   ]
  },
  {
   "cell_type": "code",
   "execution_count": 98,
   "id": "da709051",
   "metadata": {},
   "outputs": [
    {
     "name": "stdout",
     "output_type": "stream",
     "text": [
      "application_data/verification_image/download (2) 5.04.54 PM.jpeg\n",
      "application_data/verification_image/download (3).jpeg\n",
      "application_data/verification_image/.DS_Store\n",
      "application_data/verification_image/download (1).jpeg\n",
      "application_data/verification_image/download (3) 5.04.54 PM.jpeg\n",
      "application_data/verification_image/download (4).jpeg\n",
      "application_data/verification_image/download (2).jpeg\n",
      "application_data/verification_image/download (1) 5.04.54 PM.jpeg\n"
     ]
    }
   ],
   "source": [
    "for image in os.listdir(os.path.join('application_data','verification_image')):\n",
    "    print(os.path.join('application_data','verification_image',image))"
   ]
  },
  {
   "cell_type": "code",
   "execution_count": 88,
   "id": "c3a580e7",
   "metadata": {},
   "outputs": [],
   "source": [
    "def verify(model,detection_threshold,verification_threshold):\n",
    "    results=[]\n",
    "    for image in os.listdir(os.path.join('application_data','verification_image')):\n",
    "        \n",
    "        input_img=preprocess(os.path.join('application_data','input_image','input_image.jpg'))\n",
    "        validation_img=preprocess(os.path.join('application_data','verification_image',image))\n",
    "        \n",
    "        result=model.predict(list(np.expand_dims([input_img,validation_img],axis=1)))\n",
    "        results.append(result)\n",
    "        \n",
    "    detection=np.sum(np.array(results)>detection_threshold)\n",
    "    verification=detection/len(os.listdir(os.path.join('application_data','verification_image')))\n",
    "    verified=verification>verification_threshold\n",
    "    \n",
    "    return results,verified"
   ]
  },
  {
   "cell_type": "markdown",
   "id": "1d912bf5",
   "metadata": {},
   "source": [
    "### OpenCV Real Time Verification"
   ]
  },
  {
   "cell_type": "code",
   "execution_count": 123,
   "id": "1b2e8688",
   "metadata": {
    "scrolled": true
   },
   "outputs": [
    {
     "name": "stdout",
     "output_type": "stream",
     "text": [
      "1/1 [==============================] - 0s 18ms/step\n",
      "1/1 [==============================] - 0s 11ms/step\n",
      "1/1 [==============================] - 0s 14ms/step\n",
      "1/1 [==============================] - 0s 11ms/step\n",
      "1/1 [==============================] - 0s 10ms/step\n",
      "1/1 [==============================] - 0s 10ms/step\n",
      "True\n",
      "1/1 [==============================] - 0s 96ms/step\n",
      "1/1 [==============================] - 0s 18ms/step\n",
      "1/1 [==============================] - 0s 11ms/step\n",
      "1/1 [==============================] - 0s 11ms/step\n",
      "1/1 [==============================] - 0s 11ms/step\n",
      "1/1 [==============================] - 0s 10ms/step\n",
      "True\n"
     ]
    }
   ],
   "source": [
    "cap=cv2.VideoCapture(0)\n",
    "cap.set(cv2.CAP_PROP_FRAME_WIDTH, 250)\n",
    "cap.set(cv2.CAP_PROP_FRAME_HEIGHT, 250)\n",
    "while cap.isOpened():\n",
    "    ret,frame=cap.read()\n",
    "    frame = cv2.resize(frame, (250, 250))\n",
    "    frame=cv2.flip(frame,1)\n",
    "    \n",
    "    cv2.imshow('verification',frame)\n",
    "    \n",
    "    if cv2.waitKey(1) & 0XFF==ord('v'):\n",
    "        cv2.imwrite(os.path.join('application_data','input_image','input_image.jpg'),frame)\n",
    "        results,verified=verify(model,0.7,0.6)\n",
    "        print(verified)\n",
    "    \n",
    "    if cv2.waitKey(1) & 0XFF==ord('q'):\n",
    "        break\n",
    "cap.release()\n",
    "cv2.destroyAllWindows()"
   ]
  },
  {
   "cell_type": "code",
   "execution_count": 114,
   "id": "168e4d7e",
   "metadata": {},
   "outputs": [
    {
     "data": {
      "text/plain": [
       "4"
      ]
     },
     "execution_count": 114,
     "metadata": {},
     "output_type": "execute_result"
    }
   ],
   "source": [
    "np.sum(np.squeeze(results)>0.7)"
   ]
  },
  {
   "cell_type": "code",
   "execution_count": 115,
   "id": "ae7c87d4",
   "metadata": {},
   "outputs": [
    {
     "data": {
      "text/plain": [
       "0.5714285714285714"
      ]
     },
     "execution_count": 115,
     "metadata": {},
     "output_type": "execute_result"
    }
   ],
   "source": [
    "4/7"
   ]
  },
  {
   "cell_type": "code",
   "execution_count": null,
   "id": "a82dabe5",
   "metadata": {},
   "outputs": [],
   "source": []
  }
 ],
 "metadata": {
  "kernelspec": {
   "display_name": "Python 3 (ipykernel)",
   "language": "python",
   "name": "python3"
  },
  "language_info": {
   "codemirror_mode": {
    "name": "ipython",
    "version": 3
   },
   "file_extension": ".py",
   "mimetype": "text/x-python",
   "name": "python",
   "nbconvert_exporter": "python",
   "pygments_lexer": "ipython3",
   "version": "3.10.9"
  }
 },
 "nbformat": 4,
 "nbformat_minor": 5
}
