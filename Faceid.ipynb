{
 "cells": [
  {
   "cell_type": "code",
   "execution_count": 1,
   "id": "fa57b1e6",
   "metadata": {},
   "outputs": [],
   "source": [
    "import cv2\n",
    "import os \n",
    "import random\n",
    "import numpy as np\n",
    "import matplotlib.pyplot as plt\n",
    "\n",
    "from tensorflow.keras.models import Model\n",
    "from tensorflow.keras.layers import Layer,Conv2D,Dense,MaxPool2D,Input,Flatten\n",
    "import tensorflow as tf"
   ]
  },
  {
   "cell_type": "code",
   "execution_count": 2,
   "id": "802bfcdd",
   "metadata": {},
   "outputs": [],
   "source": [
    "class L1Dist(Layer):\n",
    "    \n",
    "    def __init__(self,**kwargs):\n",
    "        super().__init__()\n",
    "        \n",
    "    def call(self,input_embedding,validation_embedding):\n",
    "        return tf.math.abs(input_embedding-validation_embedding)"
   ]
  },
  {
   "cell_type": "code",
   "execution_count": 3,
   "id": "872a32d5",
   "metadata": {},
   "outputs": [
    {
     "name": "stdout",
     "output_type": "stream",
     "text": [
      "WARNING:tensorflow:No training configuration found in the save file, so the model was *not* compiled. Compile it manually.\n"
     ]
    }
   ],
   "source": [
    "model=tf.keras.models.load_model('siamesemodel.h5',\n",
    "        custom_objects={'L1Dist':L1Dist,'BinaryCrossentropy':tf.losses.BinaryCrossentropy})"
   ]
  },
  {
   "cell_type": "code",
   "execution_count": 4,
   "id": "dc40a4a6",
   "metadata": {},
   "outputs": [
    {
     "name": "stdout",
     "output_type": "stream",
     "text": [
      "Model: \"SiameseNetwork\"\n",
      "__________________________________________________________________________________________________\n",
      " Layer (type)                Output Shape                 Param #   Connected to                  \n",
      "==================================================================================================\n",
      " input_image (InputLayer)    [(None, 100, 100, 3)]        0         []                            \n",
      "                                                                                                  \n",
      " validation_img (InputLayer  [(None, 100, 100, 3)]        0         []                            \n",
      " )                                                                                                \n",
      "                                                                                                  \n",
      " embedding (Functional)      (None, 4096)                 3896044   ['input_image[0][0]',         \n",
      "                                                          8          'validation_img[0][0]']      \n",
      "                                                                                                  \n",
      " l1_dist (L1Dist)            (None, 4096)                 0         ['embedding[0][0]',           \n",
      "                                                                     'embedding[1][0]']           \n",
      "                                                                                                  \n",
      " dense_1 (Dense)             (None, 1)                    4097      ['l1_dist[0][0]']             \n",
      "                                                                                                  \n",
      "==================================================================================================\n",
      "Total params: 38964545 (148.64 MB)\n",
      "Trainable params: 38964545 (148.64 MB)\n",
      "Non-trainable params: 0 (0.00 Byte)\n",
      "__________________________________________________________________________________________________\n"
     ]
    }
   ],
   "source": [
    "model.summary()"
   ]
  },
  {
   "cell_type": "code",
   "execution_count": 5,
   "id": "a0d0de6f",
   "metadata": {},
   "outputs": [],
   "source": [
    "def verify(model,detection_threshold,verification_threshold):\n",
    "    results=[]\n",
    "    image_path=[]\n",
    "    for image in os.listdir(os.path.join('application_data','verification_image')):\n",
    "        \n",
    "        input_img=preprocess(os.path.join('application_data','input_image','input_image.jpg'))\n",
    "        validation_img=preprocess(os.path.join('application_data','verification_image',image))\n",
    "        validation_img_path=os.path.join('application_data','verification_image',image)\n",
    "        \n",
    "        result=model.predict(list(np.expand_dims([input_img,validation_img],axis=1)))\n",
    "        results.append(result)\n",
    "        image_path.append(validation_img_path)\n",
    "        \n",
    "    detection=np.sum(np.array(results)>detection_threshold)\n",
    "    verification=detection/len(os.listdir(os.path.join('application_data','verification_image')))\n",
    "    verified=verification>verification_threshold\n",
    "    \n",
    "    return results,detection,image_path"
   ]
  },
  {
   "cell_type": "code",
   "execution_count": 6,
   "id": "cf5ca64b",
   "metadata": {},
   "outputs": [],
   "source": [
    "def preprocess(file_path):\n",
    "    byte_img=tf.io.read_file(file_path)\n",
    "    img=tf.io.decode_jpeg(byte_img)\n",
    "    img=tf.image.resize(img,(100,100))\n",
    "    img=img/255.0\n",
    "    return img"
   ]
  },
  {
   "cell_type": "code",
   "execution_count": 17,
   "id": "8ad12a8e",
   "metadata": {},
   "outputs": [
    {
     "name": "stdout",
     "output_type": "stream",
     "text": [
      "1/1 [==============================] - 0s 81ms/step\n",
      "1/1 [==============================] - 0s 10ms/step\n",
      "1/1 [==============================] - 0s 9ms/step\n",
      "1/1 [==============================] - 0s 9ms/step\n",
      "3\n"
     ]
    }
   ],
   "source": [
    "cap=cv2.VideoCapture(0)\n",
    "cap.set(cv2.CAP_PROP_FRAME_WIDTH, 250)\n",
    "cap.set(cv2.CAP_PROP_FRAME_HEIGHT, 250)\n",
    "while cap.isOpened():\n",
    "    ret,frame=cap.read()\n",
    "    frame = cv2.resize(frame, (250, 250))\n",
    "    frame=cv2.flip(frame,1)\n",
    "    \n",
    "    cv2.imshow('verification',frame)\n",
    "    \n",
    "    if cv2.waitKey(1) & 0XFF==ord('v'):\n",
    "        cv2.imwrite(os.path.join('application_data','input_image','input_image.jpg'),frame)\n",
    "        results,verified,image_path=verify(model,0.7,0.6)\n",
    "        print(verified)\n",
    "    \n",
    "    if cv2.waitKey(1) & 0XFF==ord('q'):\n",
    "        break\n",
    "cap.release()\n",
    "cv2.destroyAllWindows()"
   ]
  },
  {
   "cell_type": "code",
   "execution_count": 18,
   "id": "a4a1e59d",
   "metadata": {},
   "outputs": [],
   "source": [
    "max_index = np.argmax([arr[0, 0] for arr in results])"
   ]
  },
  {
   "cell_type": "code",
   "execution_count": 19,
   "id": "c1d62025",
   "metadata": {},
   "outputs": [
    {
     "data": {
      "text/plain": [
       "1"
      ]
     },
     "execution_count": 19,
     "metadata": {},
     "output_type": "execute_result"
    }
   ],
   "source": [
    "max_index"
   ]
  },
  {
   "cell_type": "code",
   "execution_count": 20,
   "id": "ecf18717",
   "metadata": {},
   "outputs": [
    {
     "data": {
      "text/plain": [
       "'22124004.jpg'"
      ]
     },
     "execution_count": 20,
     "metadata": {},
     "output_type": "execute_result"
    }
   ],
   "source": [
    "image_path[max_index].split('/')[2]"
   ]
  },
  {
   "cell_type": "code",
   "execution_count": 21,
   "id": "f5e8960d",
   "metadata": {},
   "outputs": [
    {
     "data": {
      "text/plain": [
       "[array([[0.9998754]], dtype=float32),\n",
       " array([[0.9999268]], dtype=float32),\n",
       " array([[0.45581213]], dtype=float32),\n",
       " array([[0.9995351]], dtype=float32)]"
      ]
     },
     "execution_count": 21,
     "metadata": {},
     "output_type": "execute_result"
    }
   ],
   "source": [
    "results"
   ]
  },
  {
   "cell_type": "code",
   "execution_count": 22,
   "id": "ed0f1005",
   "metadata": {},
   "outputs": [
    {
     "data": {
      "text/plain": [
       "['application_data/verification_image/22124006.jpeg',\n",
       " 'application_data/verification_image/22124004.jpg',\n",
       " 'application_data/verification_image/22124002.jpg',\n",
       " 'application_data/verification_image/22124007.jpeg']"
      ]
     },
     "execution_count": 22,
     "metadata": {},
     "output_type": "execute_result"
    }
   ],
   "source": [
    "image_path"
   ]
  },
  {
   "cell_type": "code",
   "execution_count": null,
   "id": "69dcff21",
   "metadata": {},
   "outputs": [],
   "source": []
  }
 ],
 "metadata": {
  "kernelspec": {
   "display_name": "Python 3 (ipykernel)",
   "language": "python",
   "name": "python3"
  },
  "language_info": {
   "codemirror_mode": {
    "name": "ipython",
    "version": 3
   },
   "file_extension": ".py",
   "mimetype": "text/x-python",
   "name": "python",
   "nbconvert_exporter": "python",
   "pygments_lexer": "ipython3",
   "version": "3.10.9"
  }
 },
 "nbformat": 4,
 "nbformat_minor": 5
}
